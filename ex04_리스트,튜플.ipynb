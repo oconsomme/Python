{
 "cells": [
  {
   "cell_type": "markdown",
   "id": "ec611820",
   "metadata": {},
   "source": [
    "#### 리스트(list)\n",
    " - 파이썬의 자료구조 형태중 하나\n",
    " - 순서가 잇는 수정 가능한 객체의 집합\n",
    " - 대괄호([])로 작성되어지며, 리스트 내부의 값은 콤마(,)으로 구분\n",
    " - 추가, 수정, 삭제 가능"
   ]
  },
  {
   "cell_type": "code",
   "execution_count": 7,
   "id": "0b4e5059",
   "metadata": {},
   "outputs": [
    {
     "name": "stdout",
     "output_type": "stream",
     "text": [
      "<class 'list'>\n",
      "[]\n",
      "[1, 2, 3]\n",
      "['My', 'name']\n",
      "[1, 2, 'a', 'b']\n",
      "[1, 2, 'a', [3, 4, ['b', 'd']]]\n"
     ]
    }
   ],
   "source": [
    "# 리스트 생성\n",
    "a = []\n",
    "b = [1,2,3]\n",
    "c = ['My', 'name']\n",
    "d = [1,2,'a','b']\n",
    "e = [1,2,'a',[3,4,['b','d']]]\n",
    "\n",
    "print(type(a))\n",
    "print(a)\n",
    "print(b)\n",
    "print(c)\n",
    "print(d)\n",
    "print(e)"
   ]
  },
  {
   "cell_type": "code",
   "execution_count": null,
   "id": "8ef67544",
   "metadata": {},
   "outputs": [],
   "source": [
    "# 인덱싱(indexing) > 무엇인가를 '가리킨다'\n",
    "# 리스트명[인덱스] : 인덱스에 위치한 값을 반환\n",
    "\n",
    "# 슬라이싱(slicing) > 무엇인가를 '잘라낸다'\n",
    "# 리스트명[시작인덱스:종료인덱스] : 시작인덱스부터 종료인덱스 바로 전까지 값을 반환"
   ]
  },
  {
   "cell_type": "code",
   "execution_count": 8,
   "id": "48122534",
   "metadata": {},
   "outputs": [
    {
     "name": "stdout",
     "output_type": "stream",
     "text": [
      "2\n"
     ]
    }
   ],
   "source": [
    "li1 = [2,5,7,9,10]\n",
    "print(li1[0])"
   ]
  },
  {
   "cell_type": "code",
   "execution_count": 13,
   "id": "eecad4d7",
   "metadata": {},
   "outputs": [
    {
     "name": "stdout",
     "output_type": "stream",
     "text": [
      "b\n"
     ]
    }
   ],
   "source": [
    "li2 = [1,2,3,['a','b','c']]\n",
    "temp = li2[3]\n",
    "print(li2[3][1])"
   ]
  },
  {
   "cell_type": "code",
   "execution_count": 14,
   "id": "ad2006c2",
   "metadata": {},
   "outputs": [
    {
     "name": "stdout",
     "output_type": "stream",
     "text": [
      "[1, 2]\n"
     ]
    }
   ],
   "source": [
    "li3 = [4,1,2,8,6]\n",
    "print(li3[1:3])"
   ]
  },
  {
   "cell_type": "code",
   "execution_count": 19,
   "id": "46223ab3",
   "metadata": {},
   "outputs": [
    {
     "name": "stdout",
     "output_type": "stream",
     "text": [
      "[1, 2, 3, 1, 2, 3, 1, 2, 3]\n",
      "[1, 2, 3, 3, 4, 5]\n"
     ]
    },
    {
     "ename": "TypeError",
     "evalue": "can't multiply sequence by non-int of type 'list'",
     "output_type": "error",
     "traceback": [
      "\u001b[1;31m---------------------------------------------------------------------------\u001b[0m",
      "\u001b[1;31mTypeError\u001b[0m                                 Traceback (most recent call last)",
      "Cell \u001b[1;32mIn[19], line 5\u001b[0m\n\u001b[0;32m      3\u001b[0m \u001b[38;5;28mprint\u001b[39m(li4\u001b[38;5;241m*\u001b[39m\u001b[38;5;241m3\u001b[39m)\n\u001b[0;32m      4\u001b[0m \u001b[38;5;28mprint\u001b[39m(li4\u001b[38;5;241m+\u001b[39mli5)\n\u001b[1;32m----> 5\u001b[0m \u001b[38;5;28mprint\u001b[39m(\u001b[43mli4\u001b[49m\u001b[38;5;241;43m*\u001b[39;49m\u001b[43mli5\u001b[49m)\n",
      "\u001b[1;31mTypeError\u001b[0m: can't multiply sequence by non-int of type 'list'"
     ]
    }
   ],
   "source": [
    "li4 = [1,2,3]\n",
    "li5 = [3,4,5]\n",
    "print(li4*3)\n",
    "print(li4+li5)"
   ]
  },
  {
   "cell_type": "code",
   "execution_count": 20,
   "id": "09f32421",
   "metadata": {},
   "outputs": [
    {
     "name": "stdout",
     "output_type": "stream",
     "text": [
      "[1, 4, 3, 7, 6, 5]\n"
     ]
    }
   ],
   "source": [
    "# 리스트 값 추가하기\n",
    "# 리스트명.append(값)\n",
    "\n",
    "li6 = [1,4,3,7,6]\n",
    "li6.append(5)\n",
    "print(li6)"
   ]
  },
  {
   "cell_type": "code",
   "execution_count": 21,
   "id": "8987d4b9",
   "metadata": {},
   "outputs": [
    {
     "name": "stdout",
     "output_type": "stream",
     "text": [
      "[0, 5, 1, 2, 3, 4]\n"
     ]
    }
   ],
   "source": [
    "# 리스트 값 삽입\n",
    "# 리스트명.insert(인덱스, 값)\n",
    "\n",
    "li7 = [0,1,2,3,4]\n",
    "li7.insert(1,5)\n",
    "print(li7)"
   ]
  },
  {
   "cell_type": "code",
   "execution_count": 23,
   "id": "a86c72b4",
   "metadata": {},
   "outputs": [
    {
     "name": "stdout",
     "output_type": "stream",
     "text": [
      "[0, 7, 2, 3, 4]\n",
      "[0, 7, 8, 4]\n"
     ]
    }
   ],
   "source": [
    "# 리스트 값 수정\n",
    "# 리스트명[인덱스] = 값\n",
    "\n",
    "li8 = [0,1,2,3,4]\n",
    "li8[1] = 7\n",
    "print(li8)\n",
    "\n",
    "li8[2:4] = [8]\n",
    "print(li8)"
   ]
  },
  {
   "cell_type": "code",
   "execution_count": 32,
   "id": "d5fed436",
   "metadata": {},
   "outputs": [
    {
     "name": "stdout",
     "output_type": "stream",
     "text": [
      "['h', 'i', 'j', ['a', 'b', 'c'], 3, 'd', 'e', 'f', 'g']\n"
     ]
    }
   ],
   "source": [
    "array = [1,2,3,4,5]\n",
    "# 숫자 5를 7로 변경\n",
    "array[4] = 7\n",
    "\n",
    "# 숫자 2를 리스트['a','b','c']로 변경\n",
    "array[1] = ['a','b','c']\n",
    "\n",
    "# 4, 7을 'd','e','f','g'로 변경\n",
    "array[3:] = 'd','e','f','g'\n",
    "\n",
    "# 1을 'h','i','j'로 변경\n",
    "array[:1] = 'h','i','j'\n",
    "\n",
    "print(array)"
   ]
  },
  {
   "cell_type": "code",
   "execution_count": 36,
   "id": "1ed69afe",
   "metadata": {
    "scrolled": true
   },
   "outputs": [
    {
     "name": "stdout",
     "output_type": "stream",
     "text": [
      "['a', 'c', 'c']\n",
      "['a', 'c']\n"
     ]
    }
   ],
   "source": [
    "# 리스트 값 삭제\n",
    "# 1. 인덱스 이용하는 방법\n",
    "# - del 리스트명[인덱스]\n",
    "\n",
    "# 2. 값을 이용하는 방법\n",
    "# - 리스트명.remove(값)\n",
    "\n",
    "li9 = ['a','b','c','c']\n",
    "del li9[1] \n",
    "print(li9)\n",
    "\n",
    "li9.remove('c')\n",
    "print(li9)"
   ]
  },
  {
   "cell_type": "code",
   "execution_count": 44,
   "id": "a79dbd40",
   "metadata": {},
   "outputs": [
    {
     "name": "stdout",
     "output_type": "stream",
     "text": [
      "[9, 77, 13, 51, 100, 3]\n",
      "[3, 9, 13, 51, 77, 100]\n",
      "[100, 77, 51, 13, 9, 3]\n"
     ]
    }
   ],
   "source": [
    "# 리스트 정렬\n",
    "# 리스트명.sort() > 기본적으로 오름차순 정렬\n",
    "\n",
    "li10 = [9,77,13,51,100,3]\n",
    "print(li10)\n",
    "li10.sort()\n",
    "print(li10)\n",
    "li10.reverse()\n",
    "print(li10)"
   ]
  },
  {
   "cell_type": "code",
   "execution_count": 46,
   "id": "2a48cece",
   "metadata": {},
   "outputs": [
    {
     "name": "stdout",
     "output_type": "stream",
     "text": [
      "[3, 100, 51, 13, 77, 9]\n",
      "[100, 77, 51, 13, 9, 3]\n"
     ]
    }
   ],
   "source": [
    "# 리스트 순서 뒤집기\n",
    "# 리스트명.reverse()\n",
    "# 함수 정보 확인 단축키 shift + Tab\n",
    "\n",
    "li11 = [9,77,13,51,100,3]\n",
    "li11.reverse()\n",
    "print(li11)\n",
    "\n",
    "li11.sort(reverse=True)\n",
    "print(li11)"
   ]
  },
  {
   "cell_type": "code",
   "execution_count": 47,
   "id": "0bb45c9f",
   "metadata": {},
   "outputs": [
    {
     "data": {
      "text/plain": [
       "2"
      ]
     },
     "execution_count": 47,
     "metadata": {},
     "output_type": "execute_result"
    }
   ],
   "source": [
    "# 리스트의 값 위치 반환하기\n",
    "# 리스트명.index('값')\n",
    "\n",
    "li12 = ['a','b','c','d','e','f']\n",
    "li12.index('c')"
   ]
  },
  {
   "cell_type": "code",
   "execution_count": 49,
   "id": "374e184e",
   "metadata": {},
   "outputs": [
    {
     "name": "stdout",
     "output_type": "stream",
     "text": [
      "6\n",
      "5\n"
     ]
    }
   ],
   "source": [
    "# 리스트 값의 길이(개수) 확인\n",
    "\n",
    "print(len(li12))\n",
    "print(len('안녕하세요'))"
   ]
  },
  {
   "cell_type": "markdown",
   "id": "f2823795",
   "metadata": {},
   "source": [
    "#### 튜플(tuple)\n",
    " - 파이썬의 자료구조 형태 중 하나\n",
    " - 순서가 있는 집합\n",
    " - 소괄호(())로 작성되어지며, 튜플의 내부 값은 콤마(,)으로 구분\n",
    " - 추가, 수정, 삭제 불가능\n",
    "\n",
    "#### 리스트와 튜플 공통점과 차이점\n",
    " ##### 공통점\n",
    "  - 타입과 상관없이 일련의 요소(Element)를 가질 수 있다.\n",
    "  - 요소의 순서를 관리한다.\n",
    " ##### 차이점\n",
    "  - 리스트는 가변적(mutable)이며, 튜플은 불변적(immutable)이다.\n",
    "  - 리스트는 요소가 몇 개 들어갈지 명확하지 않은 경우에 사용\n",
    "  - 튜플은 요소 개수를 사전에 정확히 알고 있을 경우에 사용"
   ]
  },
  {
   "cell_type": "code",
   "execution_count": 62,
   "id": "80a76f14",
   "metadata": {},
   "outputs": [
    {
     "name": "stdout",
     "output_type": "stream",
     "text": [
      "<class 'tuple'>\n",
      "('Kimmihee',)\n"
     ]
    }
   ],
   "source": [
    "# 튜플 생성 - 소괄호 생략 가능\n",
    "a = ()\n",
    "b = (1,2,3)\n",
    "c = ('a','b','c')\n",
    "d = ('a','b',('c',1,2))\n",
    "e = 1,2,3,4,5\n",
    "a, b = (1,2,3,4),5\n",
    "name = ('Kimmihee',) # comma를 찍어 str과 tuple을 구분\n",
    "\n",
    "print(type(name))\n",
    "print(name)"
   ]
  },
  {
   "cell_type": "code",
   "execution_count": 68,
   "id": "5c40e0f3",
   "metadata": {},
   "outputs": [
    {
     "name": "stdout",
     "output_type": "stream",
     "text": [
      "3\n",
      "(1, 2, 3, ('a', 'b', 'c'))\n",
      "6\n"
     ]
    }
   ],
   "source": [
    "# 튜플 인덱싱/슬라이싱\n",
    "tu1 = (0,1,2,3,('a','b','c'),5)\n",
    "print(tu1[3])\n",
    "print(tu1[1:5])\n",
    "print(len(tu1))"
   ]
  },
  {
   "attachments": {
    "image.png": {
     "image/png": "[encoded data removed]"
    }
   },
   "cell_type": "markdown",
   "id": "3d0df1b6",
   "metadata": {},
   "source": [
    "#### 멤버 연산자\n",
    "![image.png](attachment:image.png)"
   ]
  },
  {
   "cell_type": "code",
   "execution_count": 72,
   "id": "36b3b1de",
   "metadata": {},
   "outputs": [
    {
     "name": "stdout",
     "output_type": "stream",
     "text": [
      "True\n",
      "False\n",
      "False\n",
      "True\n",
      "포함\n"
     ]
    }
   ],
   "source": [
    "str1 = '파이썬 최고'\n",
    "print('파이썬' in str1)\n",
    "print('파이썬' not in str1)\n",
    "\n",
    "li = [77, 38, 10]\n",
    "print(33 in li)\n",
    "print(33 not in li)\n",
    "\n",
    "if '파이썬' in str1 :\n",
    "    print('포함')\n",
    "else:\n",
    "    print('미포함')"
   ]
  },
  {
   "cell_type": "code",
   "execution_count": 84,
   "id": "22d27c6c",
   "metadata": {},
   "outputs": [
    {
     "name": "stdout",
     "output_type": "stream",
     "text": [
      "*****************************************\n",
      "검색할 문자를 입력하세요 >> 바나나\n",
      "바나나는(은) 리스트에 1번째 인덱스에 들어있습니다.\n",
      "*****************************************\n"
     ]
    }
   ],
   "source": [
    "list = ['딸기','바나나','수박','체리','포도']\n",
    "print(\"*****************************************\")\n",
    "print(\"검색할 문자를 입력하세요 >> \",end='')\n",
    "search = input()\n",
    "if (search in list):\n",
    "    print(\"%s는(은) 리스트에 %d번째 인덱스에 들어있습니다.\"%(search,list.index(search)))\n",
    "else :\n",
    "    print(\"%s는(은) 리스트에 들어있지 않습니다.\" %(search))\n",
    "print(\"*****************************************\")"
   ]
  },
  {
   "cell_type": "code",
   "execution_count": 86,
   "id": "395585d4",
   "metadata": {},
   "outputs": [
    {
     "name": "stdout",
     "output_type": "stream",
     "text": [
      "***********************************\n",
      "검색할 문자를 입력하세요 >> 딸기\n",
      "딸기는 리스트에 0번째 인덱스에 포함되어있습니다.\n",
      "***********************************\n"
     ]
    }
   ],
   "source": [
    "list = ['딸기','바나나','수박','체리','포도']\n",
    "print('*'*35)\n",
    "search = input('검색할 문자를 입력하세요 >> ')\n",
    "if search in list : \n",
    "    print(f'{search}는 리스트에 {list.index(search)}번째 인덱스에 포함되어있습니다.')\n",
    "else :\n",
    "    print(f'{search}는 리스트에 포함되어있지 않습니다.')\n",
    "print('*'*35)"
   ]
  },
  {
   "cell_type": "code",
   "execution_count": 90,
   "id": "9263a965",
   "metadata": {},
   "outputs": [
    {
     "name": "stdout",
     "output_type": "stream",
     "text": [
      "**************************************************\n",
      "검색할 문자를 입력하세요 : e\n",
      "e는 3번 들어있습니다.\n",
      "**************************************************\n"
     ]
    }
   ],
   "source": [
    "s = \"Hi, My name is Mihee\"\n",
    "print('*'*50)\n",
    "search = input('검색할 문자를 입력하세요 : ')\n",
    "if search in s:\n",
    "    print(f'{search}는 {s.count(search)}번 들어있습니다.')\n",
    "else:\n",
    "    print(f'{search}는 문자열에 들어있지 않습니다.')\n",
    "\n",
    "\n",
    "print('*'*50)"
   ]
  }
 ],
 "metadata": {
  "kernelspec": {
   "display_name": "Python 3 (ipykernel)",
   "language": "python",
   "name": "python3"
  },
  "language_info": {
   "codemirror_mode": {
    "name": "ipython",
    "version": 3
   },
   "file_extension": ".py",
   "mimetype": "text/x-python",
   "name": "python",
   "nbconvert_exporter": "python",
   "pygments_lexer": "ipython3",
   "version": "3.10.9"
  }
 },
 "nbformat": 4,
 "nbformat_minor": 5
}
