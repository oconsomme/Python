{
 "cells": [
  {
   "cell_type": "markdown",
   "id": "08d1c0cd",
   "metadata": {},
   "source": [
    "#### 딕셔너리\n",
    " - dictionary는 key와 value를 한 쌍으로 갖는 자료형\n",
    " - 딕셔너리 타입은 immutable한 key와 mutable한 value로 맵핑되어 있는 순서가 없는 집합"
   ]
  },
  {
   "cell_type": "code",
   "execution_count": 4,
   "id": "dad9c753",
   "metadata": {},
   "outputs": [
    {
     "name": "stdout",
     "output_type": "stream",
     "text": [
      "<class 'dict'>\n",
      "{'name': '김미희', 'pn': '010-1234-5678'}\n",
      "{1: '김미희', 2: '조미소'}\n"
     ]
    }
   ],
   "source": [
    "# 딕셔너리 생성\n",
    "# 딕셔너리명 = { Key:value, Key:value, }\n",
    "# key값은 변하지 않을 값, 동일한 key는 여러 개 올 수 없다.\n",
    "\n",
    "a = {}\n",
    "print(type(a))\n",
    "\n",
    "b = {'name':'김미희', 'pn':'010-1234-5678'}\n",
    "print(b)\n",
    "\n",
    "c = {1 : '김미희', 2 : '조미소'} \n",
    "print(c)"
   ]
  },
  {
   "cell_type": "code",
   "execution_count": 7,
   "id": "3b051b5a",
   "metadata": {},
   "outputs": [
    {
     "name": "stdout",
     "output_type": "stream",
     "text": [
      "{'name': '조미소', 'age': 20, 'pn': '010-2407-1465', 'birth': '07/05'}\n"
     ]
    }
   ],
   "source": [
    "# 딕셔너리 값 추가\n",
    "dic1 = {'name' : '김미희', 'age' : 20, 'pn':'010-2407-1465'}\n",
    "dic1['birth'] = '07/05'\n",
    "\n",
    "# 딕셔너리 값 변경\n",
    "dic1['name'] = '조미소'    \n",
    "print(dic1)"
   ]
  },
  {
   "cell_type": "code",
   "execution_count": 10,
   "id": "79f7c77a",
   "metadata": {},
   "outputs": [
    {
     "name": "stdout",
     "output_type": "stream",
     "text": [
      "조미소\n",
      "07/05\n"
     ]
    }
   ],
   "source": [
    "# 딕셔너리 값 가져오기\n",
    "print(dic1['name'])\n",
    "print(dic1['birth'])"
   ]
  },
  {
   "cell_type": "code",
   "execution_count": 14,
   "id": "4e14ba4a",
   "metadata": {},
   "outputs": [
    {
     "name": "stdout",
     "output_type": "stream",
     "text": [
      "김미희\n"
     ]
    }
   ],
   "source": [
    "addr = [{'name' : '김미희', 'age' : 20, 'pn':'010-2407-1465'}, {'name' : '박병관', 'age' : 20, 'pn':'010-1234-5678'}]\n",
    "addr.append({'name' : 'k', 'age' : 20, 'pn':'010-8965-7412'})\n",
    "print(addr[0]['name'])"
   ]
  },
  {
   "cell_type": "code",
   "execution_count": 16,
   "id": "2cb820b7",
   "metadata": {},
   "outputs": [
    {
     "data": {
      "text/plain": [
       "20"
      ]
     },
     "execution_count": 16,
     "metadata": {},
     "output_type": "execute_result"
    }
   ],
   "source": [
    "# 딕셔너리 값 가져오기2\n",
    "#딕셔너리.get(key)\n",
    "a = dic1.get('addr')\n",
    "print(a)\n",
    "# dic1['email']\n"
   ]
  },
  {
   "cell_type": "code",
   "execution_count": 19,
   "id": "edc3e451",
   "metadata": {},
   "outputs": [
    {
     "name": "stdout",
     "output_type": "stream",
     "text": [
      "dict_keys(['name', 'age', 'pn', 'birth'])\n",
      "['name', 'age', 'pn', 'birth']\n"
     ]
    }
   ],
   "source": [
    "# 딕셔너리 key만 가져오기\n",
    "print(dic1.keys())\n",
    "print(list(dic1.keys()))"
   ]
  },
  {
   "cell_type": "code",
   "execution_count": 23,
   "id": "ba975426",
   "metadata": {},
   "outputs": [
    {
     "name": "stdout",
     "output_type": "stream",
     "text": [
      "dict_values(['조미소', 20, '010-2407-1465', '07/05'])\n",
      "['조미소', 20, '010-2407-1465', '07/05']\n"
     ]
    }
   ],
   "source": [
    "# 딕셔너리 value만 가져오기\n",
    "print(dic1.values())\n",
    "print(list(dic1.values()))"
   ]
  },
  {
   "cell_type": "code",
   "execution_count": 25,
   "id": "ab2958eb",
   "metadata": {},
   "outputs": [
    {
     "name": "stdout",
     "output_type": "stream",
     "text": [
      "[('name', '조미소'), ('age', 20), ('pn', '010-2407-1465'), ('birth', '07/05')]\n"
     ]
    }
   ],
   "source": [
    "# 딕셔너리 key, value 동시에 가져오기\n",
    "# print(dic1.items())\n",
    "print(list(dic1.items()))"
   ]
  },
  {
   "cell_type": "code",
   "execution_count": 26,
   "id": "02e147ef",
   "metadata": {},
   "outputs": [
    {
     "data": {
      "text/plain": [
       "{'name': '조미소', 'pn': '010-2407-1465', 'birth': '07/05'}"
      ]
     },
     "execution_count": 26,
     "metadata": {},
     "output_type": "execute_result"
    }
   ],
   "source": [
    "# 값 삭제하기\n",
    "# del 딕셔너리명[key]\n",
    "del dic1['age']\n",
    "dic1"
   ]
  },
  {
   "cell_type": "code",
   "execution_count": 28,
   "id": "f481152d",
   "metadata": {},
   "outputs": [
    {
     "data": {
      "text/plain": [
       "{}"
      ]
     },
     "execution_count": 28,
     "metadata": {},
     "output_type": "execute_result"
    }
   ],
   "source": [
    "# 딕셔너리 모두 지우기\n",
    "dic1.clear()\n",
    "dic1"
   ]
  },
  {
   "cell_type": "code",
   "execution_count": 31,
   "id": "5b1ac73d",
   "metadata": {},
   "outputs": [
    {
     "name": "stdout",
     "output_type": "stream",
     "text": [
      "True\n",
      "False\n",
      "False\n"
     ]
    }
   ],
   "source": [
    "# 딕셔너리를 멤버연산자와 같이 사용하기\n",
    "# 딕셔너리 안에 특정 key값이 포함되어있는지 확인\n",
    "dic2 = {'name' : '김미희', 'age' : 20, 'phone' : '010-2407-1465'}\n",
    "\n",
    "print('name' in dic2)\n",
    "print('birth' in dic2)\n",
    "print(20 in dic2)"
   ]
  },
  {
   "cell_type": "code",
   "execution_count": 32,
   "id": "4101d6fa",
   "metadata": {},
   "outputs": [
    {
     "name": "stdout",
     "output_type": "stream",
     "text": [
      "김미희\n",
      "20\n",
      "010-2407-1465\n"
     ]
    }
   ],
   "source": [
    "for value in dic2.values():\n",
    "    print(value)"
   ]
  },
  {
   "cell_type": "code",
   "execution_count": 34,
   "id": "8c9fc06e",
   "metadata": {},
   "outputs": [
    {
     "data": {
      "text/plain": [
       "True"
      ]
     },
     "execution_count": 34,
     "metadata": {},
     "output_type": "execute_result"
    }
   ],
   "source": [
    "20 in dic2.values()"
   ]
  }
 ],
 "metadata": {
  "kernelspec": {
   "display_name": "Python 3 (ipykernel)",
   "language": "python",
   "name": "python3"
  },
  "language_info": {
   "codemirror_mode": {
    "name": "ipython",
    "version": 3
   },
   "file_extension": ".py",
   "mimetype": "text/x-python",
   "name": "python",
   "nbconvert_exporter": "python",
   "pygments_lexer": "ipython3",
   "version": "3.10.9"
  }
 },
 "nbformat": 4,
 "nbformat_minor": 5
}
